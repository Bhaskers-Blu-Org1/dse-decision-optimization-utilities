{
 "cells": [
  {
   "cell_type": "markdown",
   "metadata": {
    "collapsed": true
   },
   "source": [
    "# Install and use DSE-DO-Utils in CPDv2.5\n",
    "CPDv2.5 is very different from the previous versions and it has a significant impact on how the dse-do-utils can be installed and used.\n",
    "\n",
    "Installation options:\n",
    "* [1. Install using pip in a customized environment](#pip_install). This applies to both Jupyter and JupyterLab.\n",
    "* [2. Install as a package in JupyterLab](#jl_install).\n",
    "* [3. Install as modules in Jupyter](#jupyter_install).\n",
    "* [4. Install as modules in the DO Model Builder](#mb_install).\n",
    "\n",
    "Usage (import) options:\n",
    "* [5. Import from the dse_do_utils package](#package_import).\n",
    "* [6. Import from a module within the package](#submodule_import).\n",
    "* [7. Import from a module as part of a set of modules](#module_import)."
   ]
  },
  {
   "cell_type": "markdown",
   "metadata": {
    "collapsed": true
   },
   "source": [
    "## 1. Install in customized environment<a class=\"anchor\" id=\"pip_install\"></a>\n",
    "CPDv2.5 allows for easy customization of environments.\n",
    "Add the following to the customization configuration:\n",
    "```\n",
    "- pip:\n",
    "    - dse-do-utils=0.3.0.0\n",
    "```\n",
    "This automatically downloads dse-do-utils from PyPI and installs the package.\n",
    "\n",
    "For air-gapped systems that have no access to PyPI (applies to any custom installed package):\n",
    "1. Download the package from PyPI/Conda from an internet connected system as a wheel/zip file\n",
    "2. Upload the wheel/zip as a data asset\n",
    "3. Install package from wheel/zip\n",
    "\n",
    "This downloads the package as a wheel/zip and puts it in the data assets\n",
    "```\n",
    "!pip download dse-do-utils -d /project_data/data_asset/\n",
    "```\n",
    "Then run the following to make the file visible in the WS Data Assets UI:\n",
    "```\n",
    "file_name = 'dse_do_utils-0.3.0.0.tar.gz'\n",
    "file_path = '/project_data/data_asset/' + file_name\n",
    "with open(file_path, 'rb') as f:\n",
    "    from project_lib import Project\n",
    "    project = Project.access()\n",
    "    project.save_data(file_name=file_name, data=f, overwrite=True)\n",
    "```\n",
    "Once it is in the data assets, the project can be exported and moved to the air-gapped system\n",
    "\n",
    "Next, set the environment customization to:\n",
    "```\n",
    "- pip:\n",
    "    - dse-do-utils --no-index --find-links=/project_data/data_asset/dse_do_utils-0.3.0.0.tar.gz\n",
    "```"
   ]
  },
  {
   "cell_type": "markdown",
   "metadata": {},
   "source": [
    "Download the package as a wheel/zip (uncomment):"
   ]
  },
  {
   "cell_type": "code",
   "execution_count": 3,
   "metadata": {},
   "outputs": [
    {
     "name": "stdout",
     "output_type": "stream",
     "text": [
      "Collecting dse-do-utils==0.2.2.3\n",
      "  File was already downloaded /project_data/data_asset/dse_do_utils-0.2.2.3.tar.gz\n",
      "Successfully downloaded dse-do-utils\n"
     ]
    }
   ],
   "source": [
    "# !pip download dse-do-utils==0.3.0.0 -d /project_data/data_asset/"
   ]
  },
  {
   "cell_type": "markdown",
   "metadata": {},
   "source": [
    "Make the file visible in the WS Data Assets UI:"
   ]
  },
  {
   "cell_type": "code",
   "execution_count": null,
   "metadata": {},
   "outputs": [],
   "source": [
    "file_name = 'dse_do_utils-0.3.0.0.tar.gz'\n",
    "file_path = '/project_data/data_asset/' + file_name\n",
    "with open(file_path, 'rb') as f:\n",
    "    from project_lib import Project\n",
    "    project = Project.access()\n",
    "    project.save_data(file_name=file_name, data=f, overwrite=True)"
   ]
  },
  {
   "cell_type": "markdown",
   "metadata": {},
   "source": [
    "## 2. Installation as package in JupyterLab<a class=\"anchor\" id=\"jl_install\"></a>\n",
    "If you want to make changes to the dse-do-utils, you can download the package folder and copy into a folder in JupyterLab.<br>\n",
    "For instance in `/packages/python/`. <br>\n",
    "Or pip install in the folder:\n",
    "```\n",
    "!pip install dse-do-utils==0.3.0.0 --target='/packages/python'\n",
    "```\n",
    "\n",
    "Then add this folder (in addition to a `scripts` folder) to the Python path by adding the following in a cell in a notebook:\n",
    "```\n",
    "import sys, os\n",
    "for folder in ['packages/python', 'scripts']:\n",
    "    path = os.path.join(os.environ['PWD'], folder)\n",
    "    if path not in sys.path:\n",
    "        sys.path.insert(0, path)\n",
    "```"
   ]
  },
  {
   "cell_type": "code",
   "execution_count": 20,
   "metadata": {},
   "outputs": [],
   "source": [
    "# !pip install dse-do-utils==0.3.0.0 --target='/packages/python'"
   ]
  },
  {
   "cell_type": "code",
   "execution_count": 4,
   "metadata": {},
   "outputs": [],
   "source": [
    "import sys, os\n",
    "for folder in ['packages/python', 'scripts']:\n",
    "    path = os.path.join(os.environ['PWD'], folder)\n",
    "    if path not in sys.path:\n",
    "        sys.path.insert(0, path)"
   ]
  },
  {
   "cell_type": "markdown",
   "metadata": {},
   "source": [
    "## 3. Installation as modules in Jupyter<a class=\"anchor\" id=\"jupyter_install\"></a>\n",
    "In CPDv2.5 and working with Jupyter, there is no longer a `scripts` or `packages/python` directory.\n",
    "The work-around to work with modules is to use a notebook to write a file to a local (hidden) file system.\n",
    "\n",
    "Two options:\n",
    "1. In a notebook, copy the contents of a module in a cell and add the following as the first line in the cell:\n",
    "```\n",
    "%%writefile mymodule.py\n",
    "```\n",
    "Run the cell. It writes a module `mymodule` in a location that is on the default Python path\n",
    "\n",
    "2. Upload the modules of the dse-do-utils package as Data Assets.\n",
    "Then run the something like following to write the contents as a file on the Python path.\n",
    "```\n",
    "from project_lib import Project\n",
    "project = Project.access()\n",
    "# Read module from data assets:\n",
    "my_module = project.get_file(asset_name)\n",
    "my_module.seek(0)\n",
    "# Write module in 'current directory to allow import'\n",
    "f = open(asset_name, 'wb')\n",
    "f.write(my_module.read())\n",
    "```"
   ]
  },
  {
   "cell_type": "markdown",
   "metadata": {},
   "source": [
    "### 3.1 Jupyter Option 1 - Example of writing a module from a cell"
   ]
  },
  {
   "cell_type": "code",
   "execution_count": 5,
   "metadata": {},
   "outputs": [
    {
     "name": "stdout",
     "output_type": "stream",
     "text": [
      "Writing mymodule.py\n"
     ]
    }
   ],
   "source": [
    "%%writefile mymodule.py\n",
    "class MyClassA():\n",
    "    def __init__(self, name: str='myname'):\n",
    "        self.name = name\n",
    "        \n",
    "    def get_name(self):\n",
    "        return self.name"
   ]
  },
  {
   "cell_type": "markdown",
   "metadata": {},
   "source": [
    "Import and use:"
   ]
  },
  {
   "cell_type": "code",
   "execution_count": 6,
   "metadata": {},
   "outputs": [
    {
     "data": {
      "text/plain": [
       "'myname'"
      ]
     },
     "execution_count": 6,
     "metadata": {},
     "output_type": "execute_result"
    }
   ],
   "source": [
    "from mymodule import MyClassA\n",
    "aa = MyClassA()\n",
    "aa.get_name()"
   ]
  },
  {
   "cell_type": "markdown",
   "metadata": {},
   "source": [
    "As a side note, you can load the contents of the module back into a cell by using:\n",
    "```\n",
    "%load mymodule.py\n",
    "```\n",
    "\n",
    "Uncomment:"
   ]
  },
  {
   "cell_type": "code",
   "execution_count": 9,
   "metadata": {},
   "outputs": [],
   "source": [
    "# %load mymodule.py"
   ]
  },
  {
   "cell_type": "markdown",
   "metadata": {},
   "source": [
    "### 3.2 Jupyter Option 2 - Import module from file\n",
    "\n",
    "1. Upload an existing module file as a data asset.\n",
    "2. Create a notebook and using the Project APIs to read the file from assets and write as file in the 'current directory' (which is the same as option 1)"
   ]
  },
  {
   "cell_type": "code",
   "execution_count": 12,
   "metadata": {},
   "outputs": [],
   "source": [
    "def cpd25_load_module_from_assets(asset_name: str):\n",
    "    \"\"\"Loads a Python module from the data assets of a CPD2.5 project and writes it as a file.\n",
    "    So that the file is in the Python path of a notebook. \n",
    "    So that the module can be imported from a notebook.\n",
    "    For use in CPDv2.5 icw regular notebooks (i.e. no JupyterLab) only\n",
    "    \n",
    "    Usage:\n",
    "    1. Upload an existing Python module as a data asset\n",
    "    2. Create a notebook\n",
    "    3. Add this function definition\n",
    "    4. In a cell, run a call to this function, e.g. `cpd25_load_module_from_assets('mymodule.py')`\n",
    "    \"\"\"\n",
    "    from project_lib import Project\n",
    "    project = Project.access()\n",
    "    # Read module from data assets:\n",
    "    my_module = project.get_file(asset_name)\n",
    "    my_module.seek(0)\n",
    "    # Write module in 'current directory to allow import'\n",
    "    f = open(asset_name, 'wb')\n",
    "    f.write(my_module.read())"
   ]
  },
  {
   "cell_type": "code",
   "execution_count": 13,
   "metadata": {},
   "outputs": [],
   "source": [
    "def cpd25_load_all_modules_from_assets():\n",
    "    \"\"\"Loads all .py files in the data assets and writes them the 'disk' so that they can be imported from a notebook.\n",
    "    \"\"\"\n",
    "    from project_lib import Project\n",
    "    project = Project.access()\n",
    "    for asset in project.get_assets():\n",
    "        asset_name = asset['name']\n",
    "        if asset_name[-3:] == \".py\":\n",
    "            print(f\"Write module '{asset_name}'\")\n",
    "            cpd25_load_module_from_assets(asset_name)"
   ]
  },
  {
   "cell_type": "markdown",
   "metadata": {},
   "source": [
    "Example of loading a single module (after it has been upoaded as Data Asset):"
   ]
  },
  {
   "cell_type": "code",
   "execution_count": null,
   "metadata": {},
   "outputs": [],
   "source": [
    "# cpd25_load_module_from_assets('mymodule.py')"
   ]
  },
  {
   "cell_type": "markdown",
   "metadata": {},
   "source": [
    "Automatically save all Python modules in Data Assets as files:"
   ]
  },
  {
   "cell_type": "code",
   "execution_count": 15,
   "metadata": {},
   "outputs": [],
   "source": [
    "# cpd25_load_all_modules_from_assets()"
   ]
  },
  {
   "cell_type": "markdown",
   "metadata": {},
   "source": [
    "## 4. Install/use as modules in the DO Model Builder<a class=\"anchor\" id=\"mb_install\"></a>\n",
    "The challenge is that the environment of the DO Model Builder cannot be customized.<br>\n",
    "But it does offer an option to manually add modules to the solver code.<br>\n",
    "Modules can only be added from your local workstation.<br>\n",
    "Unfortunately, the modules will need to be re-upoaded any time the solver model is re-initialized.\n",
    "\n",
    "\n",
    "Steps:\n",
    "1. Download the modules to your local workstation. Select the ones that are required by the solver code. Typically `optimizationengine.py`, `datamanager.py` and `scenariomanager.py` (which is required by optimizationengine)\n",
    "2. After updating the code of the Model Builder, add the modules. You can select a set of modules and upload simultaniously.\n",
    "\n",
    "In this usage, the package has been deconstructed as a set of modules"
   ]
  },
  {
   "cell_type": "markdown",
   "metadata": {},
   "source": [
    "# Usage\n",
    "How to use/import the definitions in the package.\n",
    "\n",
    "There are 3 ways:\n",
    "1. Import from the dse_do_utils package\n",
    "2. Import from a module within the package\n",
    "3. Import from a module as part of a set of modules"
   ]
  },
  {
   "cell_type": "markdown",
   "metadata": {},
   "source": [
    "# 5. Import from the dse_do_utils package<a class=\"anchor\" id=\"package_import\"></a>\n",
    "The `__init__.py` maps definitions from the various internal modules to the package level.<br>\n",
    "This allows import directly from the package. For instance:\n",
    "```\n",
    "from dse_do_utils import ScenarioManager\n",
    "```\n",
    "\n",
    "This works when:\n",
    "* The package has been installed as a whole (either throught the customized environment or as a directory in JupyterLab)\n",
    "* No need to make changes to the code"
   ]
  },
  {
   "cell_type": "code",
   "execution_count": 17,
   "metadata": {},
   "outputs": [],
   "source": [
    "# from dse_do_utils import ScenarioManager"
   ]
  },
  {
   "cell_type": "markdown",
   "metadata": {},
   "source": [
    "# 6. Import from the dse_do_utils modules within the package<a class=\"anchor\" id=\"submodule_import\"></a>\n",
    "Directly import the definitions from the internal modules. For instance:\n",
    "```\n",
    "from dse_do_utils.scenariomanager import ScenarioManager\n",
    "```\n",
    "\n",
    "This approach is necessary when actively making changes to the code of the package.\n",
    "After a change, the module needs to me reloaded:\n",
    "1. Either explicitly using reload:\n",
    "```\n",
    "import imp, dse_do_utils\n",
    "imp.reload(dse_do_utils.scenariomanager)\n",
    "```\n",
    "2. Or indirectly via autoreload jupyter extension:\n",
    "```\n",
    "%load_ext autoreload\n",
    "%autoreload 2\n",
    "```\n",
    "Both autoreload and imp.reload will reload the internal module. But that will only update the definition if it was directly imported from the module itself (and not indirectly via the `__init__.py` at the package level). "
   ]
  },
  {
   "cell_type": "code",
   "execution_count": 18,
   "metadata": {},
   "outputs": [],
   "source": [
    "# from dse_do_utils.scenariomanager import ScenarioManager"
   ]
  },
  {
   "cell_type": "markdown",
   "metadata": {},
   "source": [
    "# 7. Import from a module as part of a set of modules<a class=\"anchor\" id=\"module_import\"></a>\n",
    "In case the package was extracted into a set of individual modules, like when attaching the modules to a DO model, we need to import directly from the stand-alone module:\n",
    "```\n",
    "from scenariomanager import ScenarioManager\n",
    "```\n",
    "\n",
    "This would apply to a solver notebook. But when testing the notebook, it needs to load from the installed package, we need to be flexible. First try to import from the package. if that fails, import from the module:\n",
    "```\n",
    "try:\n",
    "    from dse_do_utils.datamanager import DataManager\n",
    "    from dse_do_utils.optimizationengine import OptimizationEngine\n",
    "except:\n",
    "    from datamanager import DataManager\n",
    "    from optimizationengine import OptimizationEngine\n",
    "```"
   ]
  },
  {
   "cell_type": "code",
   "execution_count": 19,
   "metadata": {},
   "outputs": [],
   "source": [
    "# try:\n",
    "#     from dse_do_utils.datamanager import DataManager\n",
    "#     from dse_do_utils.optimizationengine import OptimizationEngine\n",
    "# except:\n",
    "#     from datamanager import DataManager\n",
    "#     from optimizationengine import OptimizationEngine"
   ]
  },
  {
   "cell_type": "code",
   "execution_count": null,
   "metadata": {},
   "outputs": [],
   "source": []
  }
 ],
 "metadata": {
  "kernelspec": {
   "display_name": "Python 3.6",
   "language": "python",
   "name": "python3"
  },
  "language_info": {
   "codemirror_mode": {
    "name": "ipython",
    "version": 3
   },
   "file_extension": ".py",
   "mimetype": "text/x-python",
   "name": "python",
   "nbconvert_exporter": "python",
   "pygments_lexer": "ipython3",
   "version": "3.6.8"
  }
 },
 "nbformat": 4,
 "nbformat_minor": 1
}
